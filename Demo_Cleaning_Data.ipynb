{
  "cells": [
    {
      "cell_type": "markdown",
      "metadata": {
        "id": "view-in-github",
        "colab_type": "text"
      },
      "source": [
        "<a href=\"https://colab.research.google.com/github/JenishaTailor/Machine-Learning-Example/blob/main/Demo_Cleaning_Data.ipynb\" target=\"_parent\"><img src=\"https://colab.research.google.com/assets/colab-badge.svg\" alt=\"Open In Colab\"/></a>"
      ]
    },
    {
      "cell_type": "markdown",
      "metadata": {
        "id": "sURdiEJz8PmR"
      },
      "source": [
        "<h2>Demo - Cleaning Data</h2>\n",
        "\n",
        "In this demo, you will be shown how to inspect and remove various inconsistencies from data in order to prepare it for analysis."
      ]
    },
    {
      "cell_type": "code",
      "execution_count": 1,
      "metadata": {
        "id": "PQb7cM_Y8PmV"
      },
      "outputs": [],
      "source": [
        "# Import the required libraries\n",
        "\n",
        "import pandas as pd\n",
        "import numpy as np\n"
      ]
    },
    {
      "cell_type": "code",
      "execution_count": null,
      "metadata": {
        "id": "y53G0JbO8PmY"
      },
      "outputs": [],
      "source": [
        "# Read sample of diabetes data from a CSV file\n",
        "\n",
        "df = pd.read_csv('/content/diabetes_sample.csv')\n",
        "df"
      ]
    },
    {
      "cell_type": "code",
      "execution_count": null,
      "metadata": {
        "id": "4bnVTyPD8PmZ",
        "outputId": "de29caaf-5ba4-47d6-8c81-ef19ed6302f3"
      },
      "outputs": [
        {
          "name": "stdout",
          "output_type": "stream",
          "text": [
            "0     False\n",
            "1     False\n",
            "2      True\n",
            "3     False\n",
            "4     False\n",
            "5     False\n",
            "6     False\n",
            "7     False\n",
            "8     False\n",
            "9     False\n",
            "10    False\n",
            "11    False\n",
            "12    False\n",
            "13    False\n",
            "14    False\n",
            "Name: Insulin, dtype: bool\n"
          ]
        }
      ],
      "source": [
        "# Check if there are any null values in the data\n",
        "\n",
        "#print(df.isnull().sum())\n",
        "\n",
        "# Check for null values in column Insulin\n",
        "print(df.Insulin.isnull())"
      ]
    },
    {
      "cell_type": "code",
      "execution_count": null,
      "metadata": {
        "id": "9D1s1SVo8Pma",
        "outputId": "eb92e3f9-c794-4b74-ae3a-587511804aa9"
      },
      "outputs": [
        {
          "data": {
            "text/html": [
              "<div>\n",
              "<style scoped>\n",
              "    .dataframe tbody tr th:only-of-type {\n",
              "        vertical-align: middle;\n",
              "    }\n",
              "\n",
              "    .dataframe tbody tr th {\n",
              "        vertical-align: top;\n",
              "    }\n",
              "\n",
              "    .dataframe thead th {\n",
              "        text-align: right;\n",
              "    }\n",
              "</style>\n",
              "<table border=\"1\" class=\"dataframe\">\n",
              "  <thead>\n",
              "    <tr style=\"text-align: right;\">\n",
              "      <th></th>\n",
              "      <th>PatientID</th>\n",
              "      <th>Pregnancies</th>\n",
              "      <th>Glucose</th>\n",
              "      <th>BloodPressure</th>\n",
              "      <th>SkinThickness</th>\n",
              "      <th>Insulin</th>\n",
              "      <th>BMI</th>\n",
              "      <th>DiabetesPedigreeFunction</th>\n",
              "      <th>Age</th>\n",
              "      <th>Outcome</th>\n",
              "    </tr>\n",
              "  </thead>\n",
              "  <tbody>\n",
              "    <tr>\n",
              "      <th>0</th>\n",
              "      <td>PT1001</td>\n",
              "      <td>6</td>\n",
              "      <td>148</td>\n",
              "      <td>72</td>\n",
              "      <td>35</td>\n",
              "      <td>250.000000</td>\n",
              "      <td>33.6</td>\n",
              "      <td>0.627</td>\n",
              "      <td>50</td>\n",
              "      <td>1</td>\n",
              "    </tr>\n",
              "    <tr>\n",
              "      <th>1</th>\n",
              "      <td>PT1002</td>\n",
              "      <td>1</td>\n",
              "      <td>85</td>\n",
              "      <td>66</td>\n",
              "      <td>29</td>\n",
              "      <td>300.000000</td>\n",
              "      <td>26.6</td>\n",
              "      <td>0.351</td>\n",
              "      <td>31</td>\n",
              "      <td>0</td>\n",
              "    </tr>\n",
              "    <tr>\n",
              "      <th>2</th>\n",
              "      <td>PT1003</td>\n",
              "      <td>8</td>\n",
              "      <td>183</td>\n",
              "      <td>64</td>\n",
              "      <td>0</td>\n",
              "      <td>216.571429</td>\n",
              "      <td>23.3</td>\n",
              "      <td>0.672</td>\n",
              "      <td>32</td>\n",
              "      <td>1</td>\n",
              "    </tr>\n",
              "    <tr>\n",
              "      <th>3</th>\n",
              "      <td>PT1004</td>\n",
              "      <td>1</td>\n",
              "      <td>89</td>\n",
              "      <td>66</td>\n",
              "      <td>23</td>\n",
              "      <td>94.000000</td>\n",
              "      <td>28.1</td>\n",
              "      <td>0.167</td>\n",
              "      <td>21</td>\n",
              "      <td>0</td>\n",
              "    </tr>\n",
              "    <tr>\n",
              "      <th>4</th>\n",
              "      <td>PT1005</td>\n",
              "      <td>0</td>\n",
              "      <td>137</td>\n",
              "      <td>40</td>\n",
              "      <td>35</td>\n",
              "      <td>168.000000</td>\n",
              "      <td>43.1</td>\n",
              "      <td>2.288</td>\n",
              "      <td>33</td>\n",
              "      <td>1</td>\n",
              "    </tr>\n",
              "    <tr>\n",
              "      <th>5</th>\n",
              "      <td>PT1005</td>\n",
              "      <td>0</td>\n",
              "      <td>137</td>\n",
              "      <td>40</td>\n",
              "      <td>35</td>\n",
              "      <td>168.000000</td>\n",
              "      <td>43.1</td>\n",
              "      <td>2.288</td>\n",
              "      <td>33</td>\n",
              "      <td>1</td>\n",
              "    </tr>\n",
              "    <tr>\n",
              "      <th>6</th>\n",
              "      <td>PT1006</td>\n",
              "      <td>3</td>\n",
              "      <td>78</td>\n",
              "      <td>50</td>\n",
              "      <td>32</td>\n",
              "      <td>88.000000</td>\n",
              "      <td>31.0</td>\n",
              "      <td>0.248</td>\n",
              "      <td>26</td>\n",
              "      <td>1</td>\n",
              "    </tr>\n",
              "    <tr>\n",
              "      <th>7</th>\n",
              "      <td>PT1007</td>\n",
              "      <td>10</td>\n",
              "      <td>115</td>\n",
              "      <td>0</td>\n",
              "      <td>0</td>\n",
              "      <td>400.000000</td>\n",
              "      <td>35.3</td>\n",
              "      <td>0.134</td>\n",
              "      <td>29</td>\n",
              "      <td>0</td>\n",
              "    </tr>\n",
              "    <tr>\n",
              "      <th>8</th>\n",
              "      <td>PT1008</td>\n",
              "      <td>2</td>\n",
              "      <td>197</td>\n",
              "      <td>70</td>\n",
              "      <td>45</td>\n",
              "      <td>543.000000</td>\n",
              "      <td>30.5</td>\n",
              "      <td>0.158</td>\n",
              "      <td>53</td>\n",
              "      <td>1</td>\n",
              "    </tr>\n",
              "    <tr>\n",
              "      <th>9</th>\n",
              "      <td>PT1009</td>\n",
              "      <td>8</td>\n",
              "      <td>125</td>\n",
              "      <td>96</td>\n",
              "      <td>0</td>\n",
              "      <td>0.000000</td>\n",
              "      <td>0.0</td>\n",
              "      <td>0.232</td>\n",
              "      <td>54</td>\n",
              "      <td>1</td>\n",
              "    </tr>\n",
              "    <tr>\n",
              "      <th>10</th>\n",
              "      <td>PT1009</td>\n",
              "      <td>4</td>\n",
              "      <td>110</td>\n",
              "      <td>92</td>\n",
              "      <td>0</td>\n",
              "      <td>0.000000</td>\n",
              "      <td>37.6</td>\n",
              "      <td>0.191</td>\n",
              "      <td>30</td>\n",
              "      <td>0</td>\n",
              "    </tr>\n",
              "    <tr>\n",
              "      <th>11</th>\n",
              "      <td>PT1011</td>\n",
              "      <td>10</td>\n",
              "      <td>168</td>\n",
              "      <td>74</td>\n",
              "      <td>0</td>\n",
              "      <td>0.000000</td>\n",
              "      <td>38.0</td>\n",
              "      <td>0.537</td>\n",
              "      <td>34</td>\n",
              "      <td>1</td>\n",
              "    </tr>\n",
              "    <tr>\n",
              "      <th>12</th>\n",
              "      <td>PT1012</td>\n",
              "      <td>10</td>\n",
              "      <td>139</td>\n",
              "      <td>80</td>\n",
              "      <td>0</td>\n",
              "      <td>0.000000</td>\n",
              "      <td>27.1</td>\n",
              "      <td>1.441</td>\n",
              "      <td>57</td>\n",
              "      <td>0</td>\n",
              "    </tr>\n",
              "    <tr>\n",
              "      <th>13</th>\n",
              "      <td>PT1013</td>\n",
              "      <td>1</td>\n",
              "      <td>189</td>\n",
              "      <td>60</td>\n",
              "      <td>23</td>\n",
              "      <td>846.000000</td>\n",
              "      <td>30.1</td>\n",
              "      <td>0.398</td>\n",
              "      <td>59</td>\n",
              "      <td>1</td>\n",
              "    </tr>\n",
              "    <tr>\n",
              "      <th>14</th>\n",
              "      <td>PT1014</td>\n",
              "      <td>5</td>\n",
              "      <td>166</td>\n",
              "      <td>72</td>\n",
              "      <td>19</td>\n",
              "      <td>175.000000</td>\n",
              "      <td>25.8</td>\n",
              "      <td>0.587</td>\n",
              "      <td>51</td>\n",
              "      <td>1</td>\n",
              "    </tr>\n",
              "  </tbody>\n",
              "</table>\n",
              "</div>"
            ],
            "text/plain": [
              "   PatientID  Pregnancies  Glucose  BloodPressure  SkinThickness     Insulin  \\\n",
              "0     PT1001            6      148             72             35  250.000000   \n",
              "1     PT1002            1       85             66             29  300.000000   \n",
              "2     PT1003            8      183             64              0  216.571429   \n",
              "3     PT1004            1       89             66             23   94.000000   \n",
              "4     PT1005            0      137             40             35  168.000000   \n",
              "5     PT1005            0      137             40             35  168.000000   \n",
              "6     PT1006            3       78             50             32   88.000000   \n",
              "7     PT1007           10      115              0              0  400.000000   \n",
              "8     PT1008            2      197             70             45  543.000000   \n",
              "9     PT1009            8      125             96              0    0.000000   \n",
              "10    PT1009            4      110             92              0    0.000000   \n",
              "11    PT1011           10      168             74              0    0.000000   \n",
              "12    PT1012           10      139             80              0    0.000000   \n",
              "13    PT1013            1      189             60             23  846.000000   \n",
              "14    PT1014            5      166             72             19  175.000000   \n",
              "\n",
              "     BMI  DiabetesPedigreeFunction  Age  Outcome  \n",
              "0   33.6                     0.627   50        1  \n",
              "1   26.6                     0.351   31        0  \n",
              "2   23.3                     0.672   32        1  \n",
              "3   28.1                     0.167   21        0  \n",
              "4   43.1                     2.288   33        1  \n",
              "5   43.1                     2.288   33        1  \n",
              "6   31.0                     0.248   26        1  \n",
              "7   35.3                     0.134   29        0  \n",
              "8   30.5                     0.158   53        1  \n",
              "9    0.0                     0.232   54        1  \n",
              "10  37.6                     0.191   30        0  \n",
              "11  38.0                     0.537   34        1  \n",
              "12  27.1                     1.441   57        0  \n",
              "13  30.1                     0.398   59        1  \n",
              "14  25.8                     0.587   51        1  "
            ]
          },
          "execution_count": 7,
          "metadata": {},
          "output_type": "execute_result"
        }
      ],
      "source": [
        "# Fill the rows containing null values in Insulin column with the mean value of that column\n",
        "\n",
        "df.Insulin = df.Insulin.fillna(df.Insulin.mean())\n",
        "df\n",
        "#df['Insulin'] = df['Insulin'].fillna(df['Insulin'].mean())\n",
        "\n",
        "# Observe that the null value is filled using the mean"
      ]
    },
    {
      "cell_type": "code",
      "execution_count": null,
      "metadata": {
        "id": "GsJAkY_w8Pmb",
        "outputId": "dfefd58d-5876-4e9e-dba5-f12776228f57"
      },
      "outputs": [
        {
          "data": {
            "text/plain": [
              "0     False\n",
              "1     False\n",
              "2     False\n",
              "3     False\n",
              "4     False\n",
              "5      True\n",
              "6     False\n",
              "7     False\n",
              "8     False\n",
              "9     False\n",
              "10    False\n",
              "11    False\n",
              "12    False\n",
              "13    False\n",
              "14    False\n",
              "dtype: bool"
            ]
          },
          "execution_count": 5,
          "metadata": {},
          "output_type": "execute_result"
        }
      ],
      "source": [
        "# Check for duplicate rows\n",
        "\n",
        "df.duplicated()\n",
        "\n",
        "# Here, only row 5 is displayed since row 4 & 5 are exact copies of each other\n"
      ]
    },
    {
      "cell_type": "code",
      "execution_count": null,
      "metadata": {
        "id": "kJCxZCzY8Pmc",
        "outputId": "117da664-f7cd-4ddf-da02-9f94c67c532e"
      },
      "outputs": [
        {
          "data": {
            "text/plain": [
              "0     False\n",
              "1     False\n",
              "2     False\n",
              "3     False\n",
              "4     False\n",
              "5      True\n",
              "6     False\n",
              "7     False\n",
              "8     False\n",
              "9     False\n",
              "10     True\n",
              "11    False\n",
              "12    False\n",
              "13    False\n",
              "14    False\n",
              "dtype: bool"
            ]
          },
          "execution_count": 6,
          "metadata": {},
          "output_type": "execute_result"
        }
      ],
      "source": [
        "# Check if any patient has a duplicate entry using PatientID column\n",
        "\n",
        "df.duplicated(['PatientID'])\n",
        "\n",
        "# Observe that one more entry is returned as True in this case"
      ]
    },
    {
      "cell_type": "markdown",
      "metadata": {
        "id": "31bm5agU8Pmc"
      },
      "source": [
        "##### Conclusion: This code demonstrates how to remove inconsistancies from a given dataset using various functions from pandas"
      ]
    },
    {
      "cell_type": "markdown",
      "source": [
        "Demo - Detecting and Removing Outliers\n",
        "In this demo, you will be shown how to detect and remove outliers using Boxplot, Z-score and IQR score."
      ],
      "metadata": {
        "id": "yBSacsbW8euG"
      }
    },
    {
      "cell_type": "code",
      "source": [
        "import seaborn as sns\n",
        "sns.boxplot(df['BMI'])"
      ],
      "metadata": {
        "colab": {
          "base_uri": "https://localhost:8080/",
          "height": 428
        },
        "id": "rU155zZN8eWR",
        "outputId": "0fa99947-bd61-41ff-9b15-6fef0d78db0a"
      },
      "execution_count": 9,
      "outputs": [
        {
          "output_type": "execute_result",
          "data": {
            "text/plain": [
              "<Axes: ylabel='BMI'>"
            ]
          },
          "metadata": {},
          "execution_count": 9
        },
        {
          "output_type": "display_data",
          "data": {
            "text/plain": [
              "<Figure size 640x480 with 1 Axes>"
            ],
            "image/png": "[encoded data removed]"
          },
          "metadata": {}
        }
      ]
    },
    {
      "cell_type": "code",
      "source": [
        "threshold = 30\n",
        "removed_outliers = df[df[\"BMI\"] <= threshold]\n",
        "sns.boxplot(removed_outliers[\"BMI\"])\n"
      ],
      "metadata": {
        "colab": {
          "base_uri": "https://localhost:8080/",
          "height": 428
        },
        "id": "bmdyMu3982V_",
        "outputId": "1aa16970-9b8b-42a7-b12d-45baf9f28eec"
      },
      "execution_count": 11,
      "outputs": [
        {
          "output_type": "execute_result",
          "data": {
            "text/plain": [
              "<Axes: ylabel='BMI'>"
            ]
          },
          "metadata": {},
          "execution_count": 11
        },
        {
          "output_type": "display_data",
          "data": {
            "text/plain": [
              "<Figure size 640x480 with 1 Axes>"
            ],
            "image/png": "[encoded data removed]"
          },
          "metadata": {}
        }
      ]
    },
    {
      "cell_type": "markdown",
      "source": [
        "Z-Score"
      ],
      "metadata": {
        "id": "x0ASMaE0_csI"
      }
    },
    {
      "cell_type": "code",
      "source": [
        "from scipy import stats\n",
        "import numpy as np\n",
        "z = np.abs(stats.zscore(df['Age']))\n",
        "print(z)"
      ],
      "metadata": {
        "colab": {
          "base_uri": "https://localhost:8080/"
        },
        "id": "e1q_lGnt_VoQ",
        "outputId": "23cb7879-e031-4710-dbd5-016e246c5b32"
      },
      "execution_count": 13,
      "outputs": [
        {
          "output_type": "stream",
          "name": "stdout",
          "text": [
            "0     0.847152\n",
            "1     0.690672\n",
            "2     0.609734\n",
            "3     1.500053\n",
            "4     0.528796\n",
            "5     0.528796\n",
            "6     1.095363\n",
            "7     0.852548\n",
            "8     1.089967\n",
            "9     1.170905\n",
            "10    0.771610\n",
            "11    0.447858\n",
            "12    1.413719\n",
            "13    1.575596\n",
            "14    0.928091\n",
            "Name: Age, dtype: float64\n"
          ]
        }
      ]
    },
    {
      "cell_type": "markdown",
      "source": [
        "Now to define an outlier threshold value is chosen which is generally 3.0. As 99.7% of the data points lie between +/- 3 standard deviation (using Gaussian Distribution approach)."
      ],
      "metadata": {
        "id": "MLbLirWU_4N1"
      }
    },
    {
      "cell_type": "code",
      "source": [
        "import numpy as np\n",
        "\n",
        "threshold_z = 2\n",
        "\n",
        "outlier_indices = np.where(z > threshold_z)[0]\n",
        "no_outliers = df.drop(outlier_indices)\n",
        "print(\"Original DataFrame Shape:\", df.shape)\n",
        "print(\"DataFrame Shape after Removing Outliers:\", no_outliers.shape)"
      ],
      "metadata": {
        "colab": {
          "base_uri": "https://localhost:8080/"
        },
        "id": "FmdhT6bq_46-",
        "outputId": "24cd0f74-d000-49cc-ebef-9aa0b06ecd37"
      },
      "execution_count": 16,
      "outputs": [
        {
          "output_type": "stream",
          "name": "stdout",
          "text": [
            "Original DataFrame Shape: (15, 10)\n",
            "DataFrame Shape after Removing Outliers: (15, 10)\n"
          ]
        }
      ]
    },
    {
      "cell_type": "markdown",
      "source": [
        "Using IQR Score"
      ],
      "metadata": {
        "id": "mPl47gS0AJZ9"
      }
    },
    {
      "cell_type": "code",
      "source": [
        "# STep 1 : Calculate IQR\n",
        "import numpy as np\n",
        "df_iqr = df[\"BMI\"]\n",
        "Q1 = df_iqr.quantile(0.25)\n",
        "Q3 = df_iqr.quantile(0.75)\n",
        "IQR = Q3 - Q1\n",
        "print(IQR)"
      ],
      "metadata": {
        "colab": {
          "base_uri": "https://localhost:8080/"
        },
        "id": "t9sNZpYXAQpF",
        "outputId": "0c4c428f-ce7b-4e13-8159-19c82876a407"
      },
      "execution_count": 22,
      "outputs": [
        {
          "output_type": "stream",
          "name": "stdout",
          "text": [
            "9.600000000000001\n"
          ]
        }
      ]
    },
    {
      "cell_type": "markdown",
      "source": [
        "To define the outlier base value is defined above and below dataset’s normal range namely Upper and Lower bounds, define the upper and the lower bound (1.5*IQR value is considered) :\n",
        "\n",
        " upper = Q3 +1.5*IQR\n",
        "\n",
        "\n",
        " lower = Q1 – 1.5*IQR"
      ],
      "metadata": {
        "id": "tbmOprMTBUpO"
      }
    },
    {
      "cell_type": "code",
      "source": [
        "upper = Q3+1.5*IQR\n",
        "upper_array = np.array(df_iqr>= upper)\n",
        "print(\"Upper Bound:\", upper)\n",
        "print(upper_array.sum())\n",
        "\n",
        "# Below Lower bound\n",
        "lower = Q1-1.5*IQR\n",
        "lower_array = np.array(df_iqr<= lower)\n",
        "print(\"Lower Bound:\", lower)\n",
        "print(lower_array.sum())"
      ],
      "metadata": {
        "colab": {
          "base_uri": "https://localhost:8080/"
        },
        "id": "5P0IAUrqBR2n",
        "outputId": "64d3630b-f44e-401b-966c-189eb8f1e2cf"
      },
      "execution_count": 24,
      "outputs": [
        {
          "output_type": "stream",
          "name": "stdout",
          "text": [
            "Upper Bound: 50.85000000000001\n",
            "0\n",
            "Lower Bound: 12.45\n",
            "1\n"
          ]
        }
      ]
    },
    {
      "cell_type": "code",
      "source": [
        "#Remove the outlier\n",
        "upper_array = np.where(df_iqr >= upper)[0]\n",
        "lower_array = np.where(df_iqr <= lower)[0]\n",
        "df_iqr.drop(index=lower_array, inplace=True)\n",
        "\n",
        "# Print the new shape of the DataFrame\n",
        "print(\"New Shape: \", df_iqr.shape)"
      ],
      "metadata": {
        "colab": {
          "base_uri": "https://localhost:8080/"
        },
        "id": "xN-rIpEnB4oG",
        "outputId": "3b33822d-29d7-44b0-b5bb-5b5280a15d09"
      },
      "execution_count": 28,
      "outputs": [
        {
          "output_type": "stream",
          "name": "stdout",
          "text": [
            "New Shape:  (14,)\n"
          ]
        }
      ]
    }
  ],
  "metadata": {
    "kernelspec": {
      "display_name": "venv",
      "language": "python",
      "name": "python3"
    },
    "language_info": {
      "codemirror_mode": {
        "name": "ipython",
        "version": 3
      },
      "file_extension": ".py",
      "mimetype": "text/x-python",
      "name": "python",
      "nbconvert_exporter": "python",
      "pygments_lexer": "ipython3",
      "version": "3.12.3"
    },
    "colab": {
      "provenance": [],
      "include_colab_link": true
    }
  },
  "nbformat": 4,
  "nbformat_minor": 0
}